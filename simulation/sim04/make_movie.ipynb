{
 "cells": [
  {
   "cell_type": "code",
   "execution_count": 17,
   "metadata": {},
   "outputs": [],
   "source": [
    "import math\n",
    "import pickle\n",
    "from tqdm.notebook import tqdm\n",
    "import numpy as np\n",
    "import pandas as pd\n",
    "import matplotlib.pyplot as plt\n",
    "from UDFManager import *\n",
    "from pyudf.rotation import Quaternion\n",
    "\n",
    "plt.style.use('presentation_')"
   ]
  },
  {
   "cell_type": "code",
   "execution_count": 2,
   "metadata": {},
   "outputs": [],
   "source": [
    "def quaternionToRotationArray(q):\n",
    "    return [\n",
    "        [1 - 2 * (q.q2 * q.q2 + q.q3 * q.q3), 2 * (q.q1 * q.q2 + q.q0 * q.q3), 2 * (q.q3 * q.q1 - q.q0 * q.q2)],\n",
    "        [2 * (q.q1 * q.q2 - q.q0 * q.q3), 1 - 2 * (q.q1 * q.q1 + q.q3 * q.q3), 2 * (q.q2 * q.q3 + q.q0 * q.q1)],\n",
    "        [2 * (q.q3 * q.q1 + q.q0 * q.q2), 2 * (q.q2 * q.q3 - q.q0 * q.q1), 1 - 2 * (q.q1 * q.q1 - q.q2 * q.q2)]\n",
    "    ]"
   ]
  },
  {
   "cell_type": "code",
   "execution_count": 35,
   "metadata": {},
   "outputs": [
    {
     "name": "stdout",
     "output_type": "stream",
     "text": [
      "401\n",
      "401\n",
      "431\n",
      "446\n",
      "401\n",
      "1141\n",
      "1069\n",
      "401\n",
      "401\n",
      "401\n",
      "401\n",
      "444\n",
      "530\n",
      "572\n",
      "666\n"
     ]
    }
   ],
   "source": [
    "for j in range(3):\n",
    "    for i in np.arange(20, 70, 10, dtype=np.uint8):\n",
    "        uobj = UDFManager(f'{j:0=2.0f}/udf/{i:0=3.0f}/output.udf')\n",
    "        nt = uobj.totalRecord()\n",
    "        print(nt)\n",
    "        start_pos = []\n",
    "        end_pos = []\n",
    "        for n in range(nt):\n",
    "            uobj.jump(n)\n",
    "            s = np.array(uobj.get(\"Particles[].R\")[0])\n",
    "            e = s + np.array(quaternionToRotationArray(Quaternion(*uobj.get(\"Particles[].q\")[0]))[1])\n",
    "            start_pos.append(s)\n",
    "            end_pos.append(e)\n",
    "        start_pos = np.array(start_pos)\n",
    "        end_pos = np.array(end_pos)\n",
    "        \n",
    "        np.save(f'positions/{j:0=2.0f}_{i:0=3.0f}_start', start_pos)\n",
    "        np.save(f'positions/{j:0=2.0f}_{i:0=3.0f}_end', end_pos)"
   ]
  },
  {
   "cell_type": "code",
   "execution_count": 32,
   "metadata": {},
   "outputs": [],
   "source": [
    "for j in range(3):\n",
    "    for i in np.arange(20, 61, 10, dtype=np.uint8):\n",
    "        start_pos = np.load(f'positions/{j:0=2.0f}_{i:0=3.0f}_start.npy')\n",
    "        end_pos = np.load(f'positions/{j:0=2.0f}_{i:0=3.0f}_end.npy')"
   ]
  },
  {
   "cell_type": "code",
   "execution_count": 34,
   "metadata": {},
   "outputs": [
    {
     "data": {
      "text/plain": [
       "(666, 3)"
      ]
     },
     "execution_count": 34,
     "metadata": {},
     "output_type": "execute_result"
    }
   ],
   "source": [
    "end_pos.shape"
   ]
  },
  {
   "cell_type": "code",
   "execution_count": null,
   "metadata": {},
   "outputs": [],
   "source": []
  }
 ],
 "metadata": {
  "kernelspec": {
   "display_name": "Python 3",
   "language": "python",
   "name": "python3"
  },
  "language_info": {
   "codemirror_mode": {
    "name": "ipython",
    "version": 3
   },
   "file_extension": ".py",
   "mimetype": "text/x-python",
   "name": "python",
   "nbconvert_exporter": "python",
   "pygments_lexer": "ipython3",
   "version": "3.7.5"
  }
 },
 "nbformat": 4,
 "nbformat_minor": 4
}
