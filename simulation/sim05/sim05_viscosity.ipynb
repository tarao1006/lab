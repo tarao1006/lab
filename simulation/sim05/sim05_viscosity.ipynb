{
 "cells": [
  {
   "cell_type": "code",
   "execution_count": 4,
   "metadata": {},
   "outputs": [],
   "source": [
    "import math\n",
    "import pickle\n",
    "from tqdm.notebook import tqdm\n",
    "import numpy as np\n",
    "import pandas as pd\n",
    "import matplotlib.pyplot as plt\n",
    "from UDFManager import *\n",
    "from pyudf.rotation import Quaternion\n",
    "\n",
    "plt.style.use('presentation')"
   ]
  },
  {
   "cell_type": "code",
   "execution_count": 2,
   "metadata": {},
   "outputs": [],
   "source": [
    "RHO = 1.0\n",
    "MU  = 1.0\n",
    "a   = 5.0\n",
    "h   = a / 2.0\n",
    "gra = 0.06\n",
    "PHI = 0.000998685\n",
    "\n",
    "gravity = np.array([0.0, 1.0, 0.0]) * (gra * RHO * 4 / 3 * np.pi * (a**3))\n",
    "gammadot = np.array([round(i * 0.001, 3) for i in range(5, 155, 5)])"
   ]
  },
  {
   "cell_type": "code",
   "execution_count": 3,
   "metadata": {},
   "outputs": [],
   "source": [
    "viscosity_map = {}"
   ]
  },
  {
   "cell_type": "code",
   "execution_count": 5,
   "metadata": {},
   "outputs": [
    {
     "data": {
      "application/vnd.jupyter.widget-view+json": {
       "model_id": "fea37105d5d141998d8d7c4929f29865",
       "version_major": 2,
       "version_minor": 0
      },
      "text/plain": [
       "HBox(children=(FloatProgress(value=0.0, max=30.0), HTML(value='')))"
      ]
     },
     "metadata": {},
     "output_type": "display_data"
    },
    {
     "name": "stdout",
     "output_type": "stream",
     "text": [
      "\n"
     ]
    }
   ],
   "source": [
    "# for j in range(1):\n",
    "#     viscosities = np.array([pd.read_csv(f'{j:0=2}/udf/{i:0=3}/output.txt', header=None, names=['time', 'shear_rate', 'shear_strain', 'shear_stress', 'viscosity'], sep='\\s+', comment=\"#\")[10:]['viscosity'].values[-1] for i in tqdm(range(5, 155, 5))])\n",
    "#     viscosity_map[f'{j:0=2}'] = viscosities\n",
    "# with open('viscosity_map.pickle', 'wb') as f:\n",
    "#     pickle.dump(viscosity_map, f)"
   ]
  },
  {
   "cell_type": "code",
   "execution_count": 6,
   "metadata": {},
   "outputs": [],
   "source": [
    "with open('viscosity_map.pickle', 'rb') as f:\n",
    "    viscosity_map = pickle.load(f)"
   ]
  },
  {
   "cell_type": "code",
   "execution_count": 7,
   "metadata": {},
   "outputs": [
    {
     "data": {
      "image/png": "[encoded data removed]",
      "text/plain": [
       "<Figure size 640x480 with 1 Axes>"
      ]
     },
     "metadata": {},
     "output_type": "display_data"
    }
   ],
   "source": [
    "plt.xlim(0, 0.12)\n",
    "plt.ylim(0.004, 0.036)\n",
    "\n",
    "plt.xticks(fontsize=25)\n",
    "plt.yticks(fontsize=25)\n",
    "plt.xlabel('$\\dot{\\gamma}$', fontsize=25)\n",
    "plt.ylabel('$(\\eta_\\mathrm{eff} - \\eta_\\mathrm{f}) / \\eta_\\mathrm{f}$', fontsize=25)\n",
    "\n",
    "plt.plot(gammadot, (viscosity_map['00'] - MU) / MU, label='$B_2=\\ \\ \\,0$')\n",
    "plt.legend(fontsize=22)\n",
    "plt.tight_layout()\n",
    "plt.savefig('../figs/sim05/effective_viscosity.png')"
   ]
  },
  {
   "cell_type": "code",
   "execution_count": null,
   "metadata": {},
   "outputs": [],
   "source": []
  }
 ],
 "metadata": {
  "kernelspec": {
   "display_name": "Python 3",
   "language": "python",
   "name": "python3"
  },
  "language_info": {
   "codemirror_mode": {
    "name": "ipython",
    "version": 3
   },
   "file_extension": ".py",
   "mimetype": "text/x-python",
   "name": "python",
   "nbconvert_exporter": "python",
   "pygments_lexer": "ipython3",
   "version": "3.7.5"
  }
 },
 "nbformat": 4,
 "nbformat_minor": 4
}
