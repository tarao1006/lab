{
 "cells": [
  {
   "cell_type": "code",
   "execution_count": 2,
   "metadata": {},
   "outputs": [],
   "source": [
    "import math\n",
    "import pickle\n",
    "import subprocess\n",
    "from tqdm.notebook import tqdm\n",
    "import numpy as np\n",
    "import pandas as pd\n",
    "import matplotlib.pyplot as plt\n",
    "import matplotlib.patches as patches\n",
    "import matplotlib.animation as animation\n",
    "from UDFManager import *\n",
    "from pyudf.rotation import Quaternion\n",
    "\n",
    "plt.style.use('presentation_')"
   ]
  },
  {
   "cell_type": "code",
   "execution_count": 3,
   "metadata": {
    "jupyter": {
     "source_hidden": true
    }
   },
   "outputs": [],
   "source": [
    "# def quaternionToRotationArray(q):\n",
    "#     return [\n",
    "#         [1 - 2 * (q.q2 * q.q2 + q.q3 * q.q3), 2 * (q.q1 * q.q2 + q.q0 * q.q3), 2 * (q.q3 * q.q1 - q.q0 * q.q2)],\n",
    "#         [2 * (q.q1 * q.q2 - q.q0 * q.q3), 1 - 2 * (q.q1 * q.q1 + q.q3 * q.q3), 2 * (q.q2 * q.q3 + q.q0 * q.q1)],\n",
    "#         [2 * (q.q3 * q.q1 + q.q0 * q.q2), 2 * (q.q2 * q.q3 - q.q0 * q.q1), 1 - 2 * (q.q1 * q.q1 - q.q2 * q.q2)]\n",
    "#     ]\n",
    "\n",
    "# for j in range(4):\n",
    "#     for i in np.linspace(20, 60, 5, dtype=np.uint8):\n",
    "#         uobj = UDFManager(f'{j:0=2.0f}/udf/{i:0=3.0f}/output.udf')\n",
    "#         nt = uobj.totalRecord()\n",
    "#         start_pos = []\n",
    "#         end_pos = []\n",
    "#         for n in range(nt):\n",
    "#             uobj.jump(n)\n",
    "#             s = np.array(uobj.get(\"Particles[].R\")[0])\n",
    "#             e = s + np.array(quaternionToRotationArray(Quaternion(*uobj.get(\"Particles[].q\")[0]))[1])\n",
    "#             start_pos.append(s)\n",
    "#             end_pos.append(e)\n",
    "#         start_pos = np.array(start_pos)\n",
    "#         end_pos = np.array(end_pos)\n",
    "        \n",
    "#         np.save(f'positions/{j:0=2.0f}_{i:0=3.0f}_start', start_pos)\n",
    "#         np.save(f'positions/{j:0=2.0f}_{i:0=3.0f}_end', end_pos)\n",
    "\n",
    "# for j in range(4):\n",
    "#     for i in np.linspace(20, 60, 5, dtype=np.uint8):\n",
    "#         start_pos = np.load(f'positions/{j:0=2.0f}_{i:0=3.0f}_start.npy')\n",
    "#         end_pos = np.load(f'positions/{j:0=2.0f}_{i:0=3.0f}_end.npy')"
   ]
  },
  {
   "cell_type": "code",
   "execution_count": 5,
   "metadata": {},
   "outputs": [
    {
     "data": {
      "application/vnd.jupyter.widget-view+json": {
       "model_id": "19ec4732acea402fac32be72c4b44e6b",
       "version_major": 2,
       "version_minor": 0
      },
      "text/plain": [
       "HBox(children=(FloatProgress(value=0.0, max=401.0), HTML(value='')))"
      ]
     },
     "metadata": {},
     "output_type": "display_data"
    },
    {
     "name": "stdout",
     "output_type": "stream",
     "text": [
      "\n"
     ]
    },
    {
     "data": {
      "application/vnd.jupyter.widget-view+json": {
       "model_id": "6192ce2f206f4f4dbe3011c27c589030",
       "version_major": 2,
       "version_minor": 0
      },
      "text/plain": [
       "HBox(children=(FloatProgress(value=0.0, max=401.0), HTML(value='')))"
      ]
     },
     "metadata": {},
     "output_type": "display_data"
    },
    {
     "name": "stdout",
     "output_type": "stream",
     "text": [
      "\n"
     ]
    },
    {
     "data": {
      "application/vnd.jupyter.widget-view+json": {
       "model_id": "7b3d12f13176410eb44646f700916098",
       "version_major": 2,
       "version_minor": 0
      },
      "text/plain": [
       "HBox(children=(FloatProgress(value=0.0, max=401.0), HTML(value='')))"
      ]
     },
     "metadata": {},
     "output_type": "display_data"
    },
    {
     "name": "stdout",
     "output_type": "stream",
     "text": [
      "\n"
     ]
    },
    {
     "data": {
      "application/vnd.jupyter.widget-view+json": {
       "model_id": "cc105f1cae5b4fc0806369c35d777fdc",
       "version_major": 2,
       "version_minor": 0
      },
      "text/plain": [
       "HBox(children=(FloatProgress(value=0.0, max=401.0), HTML(value='')))"
      ]
     },
     "metadata": {},
     "output_type": "display_data"
    },
    {
     "name": "stdout",
     "output_type": "stream",
     "text": [
      "\n"
     ]
    },
    {
     "data": {
      "application/vnd.jupyter.widget-view+json": {
       "model_id": "ed35cde344b244e3b87ce782e0f064d1",
       "version_major": 2,
       "version_minor": 0
      },
      "text/plain": [
       "HBox(children=(FloatProgress(value=0.0, max=401.0), HTML(value='')))"
      ]
     },
     "metadata": {},
     "output_type": "display_data"
    },
    {
     "name": "stdout",
     "output_type": "stream",
     "text": [
      "\n"
     ]
    }
   ],
   "source": [
    "EPS = 12\n",
    "for j in range(4):\n",
    "    for i in np.linspace(20, 60, 5, dtype=np.uint8):\n",
    "        start_pos = np.load(f'positions/{j:0=2.0f}_{i:0=3.0f}_start.npy')\n",
    "        end_pos = np.load(f'positions/{j:0=2.0f}_{i:0=3.0f}_end.npy')\n",
    "\n",
    "        for n in tqdm(range(401)):\n",
    "            start_position = [start_pos[n][0], start_pos[n][1]]\n",
    "            end_position = [(end_pos[n][0] - start_pos[n][0]) * EPS, (end_pos[n][1] - start_pos[n][1]) * EPS]\n",
    "            fig, ax = plt.subplots(figsize=(4, 4))\n",
    "            ax.set_xlim([0, 64])\n",
    "            ax.set_ylim([32, 96])\n",
    "            ax.tick_params(top=False, bottom=False, right=False, left=False)\n",
    "            ax.set_xticklabels(labels=[])\n",
    "            ax.set_yticklabels(labels=[])\n",
    "            particle = patches.Circle(\n",
    "                tuple(start_position),\n",
    "                radius=5,\n",
    "                fc='w',\n",
    "                linewidth=3\n",
    "            )\n",
    "            arrow = patches.FancyArrow(\n",
    "                *start_position,\n",
    "                *end_position,\n",
    "                width=2,\n",
    "                head_width=4,\n",
    "                head_length=3,\n",
    "                ec='k',\n",
    "                fc='k'\n",
    "            )\n",
    "            ax.add_patch(arrow)\n",
    "            ax.add_patch(particle)\n",
    "            plt.savefig(f'figs/{j:0=2.0f}/{i:0=3.0f}/{n:0=3.0f}.png')\n",
    "            plt.close()"
   ]
  },
  {
   "cell_type": "code",
   "execution_count": null,
   "metadata": {},
   "outputs": [],
   "source": []
  }
 ],
 "metadata": {
  "kernelspec": {
   "display_name": "Python 3",
   "language": "python",
   "name": "python3"
  },
  "language_info": {
   "codemirror_mode": {
    "name": "ipython",
    "version": 3
   },
   "file_extension": ".py",
   "mimetype": "text/x-python",
   "name": "python",
   "nbconvert_exporter": "python",
   "pygments_lexer": "ipython3",
   "version": "3.7.5"
  }
 },
 "nbformat": 4,
 "nbformat_minor": 4
}
