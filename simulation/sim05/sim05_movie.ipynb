{
 "cells": [
  {
   "cell_type": "code",
   "execution_count": 2,
   "metadata": {},
   "outputs": [],
   "source": [
    "import math\n",
    "import pickle\n",
    "import subprocess\n",
    "from tqdm.notebook import tqdm\n",
    "import numpy as np\n",
    "import pandas as pd\n",
    "import matplotlib.pyplot as plt\n",
    "import matplotlib.patches as patches\n",
    "import matplotlib.animation as animation\n",
    "from UDFManager import *\n",
    "from pyudf.rotation import Quaternion\n",
    "\n",
    "plt.style.use('presentation_')"
   ]
  },
  {
   "cell_type": "code",
   "execution_count": 3,
   "metadata": {
    "jupyter": {
     "source_hidden": true
    }
   },
   "outputs": [],
   "source": [
    "# def quaternionToRotationArray(q):\n",
    "#     return [\n",
    "#         [1 - 2 * (q.q2 * q.q2 + q.q3 * q.q3), 2 * (q.q1 * q.q2 + q.q0 * q.q3), 2 * (q.q3 * q.q1 - q.q0 * q.q2)],\n",
    "#         [2 * (q.q1 * q.q2 - q.q0 * q.q3), 1 - 2 * (q.q1 * q.q1 + q.q3 * q.q3), 2 * (q.q2 * q.q3 + q.q0 * q.q1)],\n",
    "#         [2 * (q.q3 * q.q1 + q.q0 * q.q2), 2 * (q.q2 * q.q3 - q.q0 * q.q1), 1 - 2 * (q.q1 * q.q1 - q.q2 * q.q2)]\n",
    "#     ]\n",
    "\n",
    "# for j in range(4):\n",
    "#     for i in np.linspace(20, 60, 5, dtype=np.uint8):\n",
    "#         uobj = UDFManager(f'{j:0=2.0f}/udf/{i:0=3.0f}/output.udf')\n",
    "#         nt = uobj.totalRecord()\n",
    "#         start_pos = []\n",
    "#         end_pos = []\n",
    "#         for n in range(nt):\n",
    "#             uobj.jump(n)\n",
    "#             s = np.array(uobj.get(\"Particles[].R\")[0])\n",
    "#             e = s + np.array(quaternionToRotationArray(Quaternion(*uobj.get(\"Particles[].q\")[0]))[1])\n",
    "#             start_pos.append(s)\n",
    "#             end_pos.append(e)\n",
    "#         start_pos = np.array(start_pos)\n",
    "#         end_pos = np.array(end_pos)\n",
    "        \n",
    "#         np.save(f'positions/{j:0=2.0f}_{i:0=3.0f}_start', start_pos)\n",
    "#         np.save(f'positions/{j:0=2.0f}_{i:0=3.0f}_end', end_pos)\n",
    "\n",
    "# for j in range(4):\n",
    "#     for i in np.linspace(20, 60, 5, dtype=np.uint8):\n",
    "#         start_pos = np.load(f'positions/{j:0=2.0f}_{i:0=3.0f}_start.npy')\n",
    "#         end_pos = np.load(f'positions/{j:0=2.0f}_{i:0=3.0f}_end.npy')"
   ]
  },
  {
   "cell_type": "code",
   "execution_count": 6,
   "metadata": {},
   "outputs": [
    {
     "data": {
      "application/vnd.jupyter.widget-view+json": {
       "model_id": "ba591cd1c3f142cbbd7c9c543a330cf2",
       "version_major": 2,
       "version_minor": 0
      },
      "text/plain": [
       "HBox(children=(FloatProgress(value=0.0, max=401.0), HTML(value='')))"
      ]
     },
     "metadata": {},
     "output_type": "display_data"
    },
    {
     "name": "stdout",
     "output_type": "stream",
     "text": [
      "\n"
     ]
    },
    {
     "data": {
      "application/vnd.jupyter.widget-view+json": {
       "model_id": "87871a441415448c930b34bade49312a",
       "version_major": 2,
       "version_minor": 0
      },
      "text/plain": [
       "HBox(children=(FloatProgress(value=0.0, max=401.0), HTML(value='')))"
      ]
     },
     "metadata": {},
     "output_type": "display_data"
    },
    {
     "name": "stdout",
     "output_type": "stream",
     "text": [
      "\n"
     ]
    },
    {
     "data": {
      "application/vnd.jupyter.widget-view+json": {
       "model_id": "ec3dd50157af424bb405a9006be0effd",
       "version_major": 2,
       "version_minor": 0
      },
      "text/plain": [
       "HBox(children=(FloatProgress(value=0.0, max=401.0), HTML(value='')))"
      ]
     },
     "metadata": {},
     "output_type": "display_data"
    },
    {
     "name": "stdout",
     "output_type": "stream",
     "text": [
      "\n"
     ]
    },
    {
     "data": {
      "application/vnd.jupyter.widget-view+json": {
       "model_id": "b06bfe6806e745129f35308d85fb0226",
       "version_major": 2,
       "version_minor": 0
      },
      "text/plain": [
       "HBox(children=(FloatProgress(value=0.0, max=401.0), HTML(value='')))"
      ]
     },
     "metadata": {},
     "output_type": "display_data"
    },
    {
     "name": "stdout",
     "output_type": "stream",
     "text": [
      "\n"
     ]
    },
    {
     "data": {
      "application/vnd.jupyter.widget-view+json": {
       "model_id": "2860f6671a8943979581a17ea61d93cc",
       "version_major": 2,
       "version_minor": 0
      },
      "text/plain": [
       "HBox(children=(FloatProgress(value=0.0, max=401.0), HTML(value='')))"
      ]
     },
     "metadata": {},
     "output_type": "display_data"
    },
    {
     "name": "stdout",
     "output_type": "stream",
     "text": [
      "\n"
     ]
    },
    {
     "data": {
      "application/vnd.jupyter.widget-view+json": {
       "model_id": "44e926e364064adeb5cf54a40b9f99e3",
       "version_major": 2,
       "version_minor": 0
      },
      "text/plain": [
       "HBox(children=(FloatProgress(value=0.0, max=401.0), HTML(value='')))"
      ]
     },
     "metadata": {},
     "output_type": "display_data"
    },
    {
     "name": "stdout",
     "output_type": "stream",
     "text": [
      "\n"
     ]
    },
    {
     "data": {
      "application/vnd.jupyter.widget-view+json": {
       "model_id": "873577ab7d9a4860b6986c5767154b4b",
       "version_major": 2,
       "version_minor": 0
      },
      "text/plain": [
       "HBox(children=(FloatProgress(value=0.0, max=401.0), HTML(value='')))"
      ]
     },
     "metadata": {},
     "output_type": "display_data"
    },
    {
     "name": "stdout",
     "output_type": "stream",
     "text": [
      "\n"
     ]
    },
    {
     "data": {
      "application/vnd.jupyter.widget-view+json": {
       "model_id": "8bfe6d922008405bb5fd885f908fd611",
       "version_major": 2,
       "version_minor": 0
      },
      "text/plain": [
       "HBox(children=(FloatProgress(value=0.0, max=401.0), HTML(value='')))"
      ]
     },
     "metadata": {},
     "output_type": "display_data"
    },
    {
     "name": "stdout",
     "output_type": "stream",
     "text": [
      "\n"
     ]
    },
    {
     "data": {
      "application/vnd.jupyter.widget-view+json": {
       "model_id": "edb2af0a03144db8988692bd3b3bd862",
       "version_major": 2,
       "version_minor": 0
      },
      "text/plain": [
       "HBox(children=(FloatProgress(value=0.0, max=401.0), HTML(value='')))"
      ]
     },
     "metadata": {},
     "output_type": "display_data"
    },
    {
     "name": "stdout",
     "output_type": "stream",
     "text": [
      "\n"
     ]
    },
    {
     "data": {
      "application/vnd.jupyter.widget-view+json": {
       "model_id": "2885b310b1f14237b65a367ea8f0cdfc",
       "version_major": 2,
       "version_minor": 0
      },
      "text/plain": [
       "HBox(children=(FloatProgress(value=0.0, max=401.0), HTML(value='')))"
      ]
     },
     "metadata": {},
     "output_type": "display_data"
    },
    {
     "name": "stdout",
     "output_type": "stream",
     "text": [
      "\n"
     ]
    },
    {
     "data": {
      "application/vnd.jupyter.widget-view+json": {
       "model_id": "fbf856842427436dbc9e62071c377bec",
       "version_major": 2,
       "version_minor": 0
      },
      "text/plain": [
       "HBox(children=(FloatProgress(value=0.0, max=401.0), HTML(value='')))"
      ]
     },
     "metadata": {},
     "output_type": "display_data"
    },
    {
     "name": "stdout",
     "output_type": "stream",
     "text": [
      "\n"
     ]
    },
    {
     "data": {
      "application/vnd.jupyter.widget-view+json": {
       "model_id": "87095da7309c47f9af49c740f86ba0e8",
       "version_major": 2,
       "version_minor": 0
      },
      "text/plain": [
       "HBox(children=(FloatProgress(value=0.0, max=401.0), HTML(value='')))"
      ]
     },
     "metadata": {},
     "output_type": "display_data"
    },
    {
     "name": "stdout",
     "output_type": "stream",
     "text": [
      "\n"
     ]
    },
    {
     "data": {
      "application/vnd.jupyter.widget-view+json": {
       "model_id": "f1eb3d7666684edcb7314e1fd2eb2658",
       "version_major": 2,
       "version_minor": 0
      },
      "text/plain": [
       "HBox(children=(FloatProgress(value=0.0, max=401.0), HTML(value='')))"
      ]
     },
     "metadata": {},
     "output_type": "display_data"
    },
    {
     "name": "stdout",
     "output_type": "stream",
     "text": [
      "\n"
     ]
    },
    {
     "data": {
      "application/vnd.jupyter.widget-view+json": {
       "model_id": "ac33f47ce9c84f2388327cec9a3eecf3",
       "version_major": 2,
       "version_minor": 0
      },
      "text/plain": [
       "HBox(children=(FloatProgress(value=0.0, max=401.0), HTML(value='')))"
      ]
     },
     "metadata": {},
     "output_type": "display_data"
    },
    {
     "name": "stdout",
     "output_type": "stream",
     "text": [
      "\n"
     ]
    },
    {
     "data": {
      "application/vnd.jupyter.widget-view+json": {
       "model_id": "4539ac45fbdf49ef84e16dded122b185",
       "version_major": 2,
       "version_minor": 0
      },
      "text/plain": [
       "HBox(children=(FloatProgress(value=0.0, max=401.0), HTML(value='')))"
      ]
     },
     "metadata": {},
     "output_type": "display_data"
    },
    {
     "name": "stdout",
     "output_type": "stream",
     "text": [
      "\n"
     ]
    },
    {
     "data": {
      "application/vnd.jupyter.widget-view+json": {
       "model_id": "409b149412ef4c8c90c21e21baf24024",
       "version_major": 2,
       "version_minor": 0
      },
      "text/plain": [
       "HBox(children=(FloatProgress(value=0.0, max=401.0), HTML(value='')))"
      ]
     },
     "metadata": {},
     "output_type": "display_data"
    },
    {
     "name": "stdout",
     "output_type": "stream",
     "text": [
      "\n"
     ]
    },
    {
     "data": {
      "application/vnd.jupyter.widget-view+json": {
       "model_id": "6d106855e3ba4a91a5fcbf25efb1485a",
       "version_major": 2,
       "version_minor": 0
      },
      "text/plain": [
       "HBox(children=(FloatProgress(value=0.0, max=401.0), HTML(value='')))"
      ]
     },
     "metadata": {},
     "output_type": "display_data"
    },
    {
     "name": "stdout",
     "output_type": "stream",
     "text": [
      "\n"
     ]
    },
    {
     "data": {
      "application/vnd.jupyter.widget-view+json": {
       "model_id": "44ebd93f2ce24319ae0ed44f8c6c9da9",
       "version_major": 2,
       "version_minor": 0
      },
      "text/plain": [
       "HBox(children=(FloatProgress(value=0.0, max=401.0), HTML(value='')))"
      ]
     },
     "metadata": {},
     "output_type": "display_data"
    },
    {
     "name": "stdout",
     "output_type": "stream",
     "text": [
      "\n"
     ]
    },
    {
     "data": {
      "application/vnd.jupyter.widget-view+json": {
       "model_id": "a5164d4284804b5ebbc64473d2519b72",
       "version_major": 2,
       "version_minor": 0
      },
      "text/plain": [
       "HBox(children=(FloatProgress(value=0.0, max=401.0), HTML(value='')))"
      ]
     },
     "metadata": {},
     "output_type": "display_data"
    },
    {
     "name": "stdout",
     "output_type": "stream",
     "text": [
      "\n"
     ]
    },
    {
     "data": {
      "application/vnd.jupyter.widget-view+json": {
       "model_id": "7bfed26aee944daba3e1a1835bee55fd",
       "version_major": 2,
       "version_minor": 0
      },
      "text/plain": [
       "HBox(children=(FloatProgress(value=0.0, max=401.0), HTML(value='')))"
      ]
     },
     "metadata": {},
     "output_type": "display_data"
    },
    {
     "name": "stdout",
     "output_type": "stream",
     "text": [
      "\n"
     ]
    }
   ],
   "source": [
    "EPS = 12\n",
    "for j in range(4):\n",
    "    for i in np.linspace(20, 60, 5, dtype=np.uint8):\n",
    "        start_pos = np.load(f'positions/{j:0=2.0f}_{i:0=3.0f}_start.npy')\n",
    "        end_pos = np.load(f'positions/{j:0=2.0f}_{i:0=3.0f}_end.npy')\n",
    "\n",
    "        for n in tqdm(range(401)):\n",
    "            start_position = [start_pos[n][0], start_pos[n][1]]\n",
    "            end_position = [(end_pos[n][0] - start_pos[n][0]) * EPS, (end_pos[n][1] - start_pos[n][1]) * EPS]\n",
    "            fig, ax = plt.subplots(figsize=(4, 4))\n",
    "            ax.set_xlim([0, 64])\n",
    "            ax.set_ylim([32, 96])\n",
    "            ax.tick_params(top=False, bottom=False, right=False, left=False)\n",
    "            ax.set_xticklabels(labels=[])\n",
    "            ax.set_yticklabels(labels=[])\n",
    "            particle = patches.Circle(\n",
    "                tuple(start_position),\n",
    "                radius=5,\n",
    "                fc='w',\n",
    "                linewidth=3\n",
    "            )\n",
    "            arrow = patches.FancyArrow(\n",
    "                *start_position,\n",
    "                *end_position,\n",
    "                width=2,\n",
    "                head_width=4,\n",
    "                head_length=3,\n",
    "                ec='k',\n",
    "                fc='k'\n",
    "            )\n",
    "            ax.add_patch(arrow)\n",
    "            ax.add_patch(particle)\n",
    "            plt.savefig(f'../figs/sim05/figs4movies/{j:0=2.0f}/{i:0=3.0f}/{n:0=3.0f}.png')\n",
    "            plt.clf()\n",
    "            plt.close()"
   ]
  },
  {
   "cell_type": "code",
   "execution_count": null,
   "metadata": {},
   "outputs": [],
   "source": [
    "# 理論値との比較用\n",
    "\n",
    "EPS = 12\n",
    "for j in range(1):\n",
    "    for i in np.linspace(20, 60, 5, dtype=np.uint8):\n",
    "        start_pos = np.load(f'positions/{j:0=2.0f}_{i:0=3.0f}_start.npy')\n",
    "        end_pos = np.load(f'positions/{j:0=2.0f}_{i:0=3.0f}_end.npy')\n",
    "\n",
    "        for n in tqdm(range(401)):\n",
    "            start_position = [start_pos[n][0], start_pos[n][1]]\n",
    "            end_position = [(end_pos[n][0] - start_pos[n][0]) * EPS, (end_pos[n][1] - start_pos[n][1]) * EPS]\n",
    "            fig, ax = plt.subplots(figsize=(4, 4))\n",
    "            ax.set_xlim([0, 64])\n",
    "            ax.set_ylim([32, 96])\n",
    "            ax.tick_params(top=False, bottom=False, right=False, left=False)\n",
    "            ax.set_xticklabels(labels=[])\n",
    "            ax.set_yticklabels(labels=[])\n",
    "            particle = patches.Circle(\n",
    "                tuple(start_position),\n",
    "                radius=5,\n",
    "                fc='w',\n",
    "                linewidth=3\n",
    "            )\n",
    "            arrow = patches.FancyArrow(\n",
    "                *start_position,\n",
    "                *end_position,\n",
    "                width=2,\n",
    "                head_width=4,\n",
    "                head_length=3,\n",
    "                ec='k',\n",
    "                fc='k'\n",
    "            )\n",
    "            ax.add_patch(arrow)\n",
    "            ax.add_patch(particle)\n",
    "            plt.savefig(f'../figs/sim05/figs4movies/{j:0=2.0f}/{i:0=3.0f}/{n:0=3.0f}.png')\n",
    "            plt.clf()\n",
    "            plt.close()\n",
    "    subprocess.run(['ffmpeg', '-f', 'image2', '-r', '15', '-i', f'../figs/sim05/figs4movies/{j:0=2.0f}/{i:0=3.0f}/_%03d.png', '-r', '15', '-an', '-vcodec', 'libx264', '-pix_fmt', 'yuv420p', f'../figs/sim05/{j:0=2.0f}/{i:0=3.0f}/video.mp4'])"
   ]
  },
  {
   "cell_type": "code",
   "execution_count": 6,
   "metadata": {},
   "outputs": [],
   "source": [
    "# 理論値との比較用\n",
    "\n",
    "EPS = 12\n",
    "for j in range(1):\n",
    "    for i in np.linspace(20, 60, 5, dtype=np.uint8):\n",
    "        subprocess.run(['ffmpeg', '-f', 'image2', '-r', '15', '-i', f'../figs/sim05/figs4movies/{j:0=2.0f}/{i:0=3.0f}/%03d.png', '-r', '15', '-an', '-vcodec', 'libx264', '-pix_fmt', 'yuv420p', f'../figs/sim05/{j:0=2.0f}_{i:0=3.0f}_video.mp4'])"
   ]
  },
  {
   "cell_type": "code",
   "execution_count": null,
   "metadata": {},
   "outputs": [],
   "source": []
  }
 ],
 "metadata": {
  "kernelspec": {
   "display_name": "Python 3",
   "language": "python",
   "name": "python3"
  },
  "language_info": {
   "codemirror_mode": {
    "name": "ipython",
    "version": 3
   },
   "file_extension": ".py",
   "mimetype": "text/x-python",
   "name": "python",
   "nbconvert_exporter": "python",
   "pygments_lexer": "ipython3",
   "version": "3.7.5"
  }
 },
 "nbformat": 4,
 "nbformat_minor": 4
}
