{
 "cells": [
  {
   "cell_type": "code",
   "execution_count": 2,
   "metadata": {},
   "outputs": [],
   "source": [
    "import math\n",
    "import pickle\n",
    "import subprocess\n",
    "from tqdm.notebook import tqdm\n",
    "import numpy as np\n",
    "import pandas as pd\n",
    "import matplotlib.pyplot as plt\n",
    "import matplotlib.patches as patches\n",
    "import matplotlib.animation as animation\n",
    "from UDFManager import *\n",
    "from pyudf.rotation import Quaternion\n",
    "\n",
    "plt.style.use('presentation_')"
   ]
  },
  {
   "cell_type": "code",
   "execution_count": 4,
   "metadata": {
    "jupyter": {
     "source_hidden": true
    }
   },
   "outputs": [],
   "source": [
    "# def quaternionToRotationArray(q):\n",
    "#     return [\n",
    "#         [1 - 2 * (q.q2 * q.q2 + q.q3 * q.q3), 2 * (q.q1 * q.q2 + q.q0 * q.q3), 2 * (q.q3 * q.q1 - q.q0 * q.q2)],\n",
    "#         [2 * (q.q1 * q.q2 - q.q0 * q.q3), 1 - 2 * (q.q1 * q.q1 + q.q3 * q.q3), 2 * (q.q2 * q.q3 + q.q0 * q.q1)],\n",
    "#         [2 * (q.q3 * q.q1 + q.q0 * q.q2), 2 * (q.q2 * q.q3 - q.q0 * q.q1), 1 - 2 * (q.q1 * q.q1 - q.q2 * q.q2)]\n",
    "#     ]\n",
    "\n",
    "# for j in range(4):\n",
    "#     for i in np.linspace(20, 60, 5, dtype=np.uint8):\n",
    "#         uobj = UDFManager(f'{j:0=2.0f}/udf/{i:0=3.0f}/output.udf')\n",
    "#         nt = uobj.totalRecord()\n",
    "#         start_pos = []\n",
    "#         end_pos = []\n",
    "#         for n in range(nt):\n",
    "#             uobj.jump(n)\n",
    "#             s = np.array(uobj.get(\"Particles[].R\")[0])\n",
    "#             e = s + np.array(quaternionToRotationArray(Quaternion(*uobj.get(\"Particles[].q\")[0]))[1])\n",
    "#             start_pos.append(s)\n",
    "#             end_pos.append(e)\n",
    "#         start_pos = np.array(start_pos)\n",
    "#         end_pos = np.array(end_pos)\n",
    "        \n",
    "#         np.save(f'positions/{j:0=2.0f}_{i:0=3.0f}_start', start_pos)\n",
    "#         np.save(f'positions/{j:0=2.0f}_{i:0=3.0f}_end', end_pos)\n",
    "\n",
    "# for j in range(4):\n",
    "#     for i in np.linspace(20, 60, 5, dtype=np.uint8):\n",
    "#         start_pos = np.load(f'positions/{j:0=2.0f}_{i:0=3.0f}_start.npy')\n",
    "#         end_pos = np.load(f'positions/{j:0=2.0f}_{i:0=3.0f}_end.npy')"
   ]
  },
  {
   "cell_type": "code",
   "execution_count": 4,
   "metadata": {},
   "outputs": [
    {
     "data": {
      "application/vnd.jupyter.widget-view+json": {
       "model_id": "247962f0355444b9a374bf33bfd3b880",
       "version_major": 2,
       "version_minor": 0
      },
      "text/plain": [
       "HBox(children=(FloatProgress(value=0.0, max=401.0), HTML(value='')))"
      ]
     },
     "metadata": {},
     "output_type": "display_data"
    },
    {
     "name": "stdout",
     "output_type": "stream",
     "text": [
      "\n"
     ]
    },
    {
     "data": {
      "application/vnd.jupyter.widget-view+json": {
       "model_id": "92f312f15b5e4c9da815ac945c647bc5",
       "version_major": 2,
       "version_minor": 0
      },
      "text/plain": [
       "HBox(children=(FloatProgress(value=0.0, max=401.0), HTML(value='')))"
      ]
     },
     "metadata": {},
     "output_type": "display_data"
    },
    {
     "name": "stdout",
     "output_type": "stream",
     "text": [
      "\n"
     ]
    },
    {
     "data": {
      "application/vnd.jupyter.widget-view+json": {
       "model_id": "05fd1d7499944e61be4713136aca3a46",
       "version_major": 2,
       "version_minor": 0
      },
      "text/plain": [
       "HBox(children=(FloatProgress(value=0.0, max=401.0), HTML(value='')))"
      ]
     },
     "metadata": {},
     "output_type": "display_data"
    },
    {
     "name": "stdout",
     "output_type": "stream",
     "text": [
      "\n"
     ]
    },
    {
     "data": {
      "application/vnd.jupyter.widget-view+json": {
       "model_id": "3eb2228f3e1042d2bb58c0890ce5dbb7",
       "version_major": 2,
       "version_minor": 0
      },
      "text/plain": [
       "HBox(children=(FloatProgress(value=0.0, max=401.0), HTML(value='')))"
      ]
     },
     "metadata": {},
     "output_type": "display_data"
    },
    {
     "name": "stdout",
     "output_type": "stream",
     "text": [
      "\n"
     ]
    },
    {
     "data": {
      "application/vnd.jupyter.widget-view+json": {
       "model_id": "1b3bd1aa68d146ed9341f0bb8c607f1c",
       "version_major": 2,
       "version_minor": 0
      },
      "text/plain": [
       "HBox(children=(FloatProgress(value=0.0, max=401.0), HTML(value='')))"
      ]
     },
     "metadata": {},
     "output_type": "display_data"
    },
    {
     "name": "stdout",
     "output_type": "stream",
     "text": [
      "\n"
     ]
    },
    {
     "data": {
      "application/vnd.jupyter.widget-view+json": {
       "model_id": "a2518aef2d9a4d288f73c6e1f1cef2b1",
       "version_major": 2,
       "version_minor": 0
      },
      "text/plain": [
       "HBox(children=(FloatProgress(value=0.0, max=401.0), HTML(value='')))"
      ]
     },
     "metadata": {},
     "output_type": "display_data"
    },
    {
     "name": "stdout",
     "output_type": "stream",
     "text": [
      "\n"
     ]
    },
    {
     "data": {
      "application/vnd.jupyter.widget-view+json": {
       "model_id": "4d170f4ef5774f6891bc1f255880a22d",
       "version_major": 2,
       "version_minor": 0
      },
      "text/plain": [
       "HBox(children=(FloatProgress(value=0.0, max=401.0), HTML(value='')))"
      ]
     },
     "metadata": {},
     "output_type": "display_data"
    },
    {
     "name": "stdout",
     "output_type": "stream",
     "text": [
      "\n"
     ]
    },
    {
     "data": {
      "application/vnd.jupyter.widget-view+json": {
       "model_id": "c8b22e8ae38248349ce7cc1903739e5b",
       "version_major": 2,
       "version_minor": 0
      },
      "text/plain": [
       "HBox(children=(FloatProgress(value=0.0, max=401.0), HTML(value='')))"
      ]
     },
     "metadata": {},
     "output_type": "display_data"
    },
    {
     "name": "stdout",
     "output_type": "stream",
     "text": [
      "\n"
     ]
    },
    {
     "data": {
      "application/vnd.jupyter.widget-view+json": {
       "model_id": "c44d93a5903840bd9c984dac010aa022",
       "version_major": 2,
       "version_minor": 0
      },
      "text/plain": [
       "HBox(children=(FloatProgress(value=0.0, max=401.0), HTML(value='')))"
      ]
     },
     "metadata": {},
     "output_type": "display_data"
    },
    {
     "name": "stdout",
     "output_type": "stream",
     "text": [
      "\n"
     ]
    },
    {
     "data": {
      "application/vnd.jupyter.widget-view+json": {
       "model_id": "bda615b2d0b7403e9e5ef0ae229077bb",
       "version_major": 2,
       "version_minor": 0
      },
      "text/plain": [
       "HBox(children=(FloatProgress(value=0.0, max=401.0), HTML(value='')))"
      ]
     },
     "metadata": {},
     "output_type": "display_data"
    },
    {
     "name": "stdout",
     "output_type": "stream",
     "text": [
      "\n"
     ]
    },
    {
     "data": {
      "application/vnd.jupyter.widget-view+json": {
       "model_id": "b81845a58f524477a8a4a7d34d14183c",
       "version_major": 2,
       "version_minor": 0
      },
      "text/plain": [
       "HBox(children=(FloatProgress(value=0.0, max=401.0), HTML(value='')))"
      ]
     },
     "metadata": {},
     "output_type": "display_data"
    },
    {
     "name": "stdout",
     "output_type": "stream",
     "text": [
      "\n"
     ]
    },
    {
     "data": {
      "application/vnd.jupyter.widget-view+json": {
       "model_id": "149d144945fb4392bfe86825db6cbc64",
       "version_major": 2,
       "version_minor": 0
      },
      "text/plain": [
       "HBox(children=(FloatProgress(value=0.0, max=401.0), HTML(value='')))"
      ]
     },
     "metadata": {},
     "output_type": "display_data"
    },
    {
     "name": "stdout",
     "output_type": "stream",
     "text": [
      "\n"
     ]
    },
    {
     "data": {
      "application/vnd.jupyter.widget-view+json": {
       "model_id": "a1adbd2124804d48b452be88132ff530",
       "version_major": 2,
       "version_minor": 0
      },
      "text/plain": [
       "HBox(children=(FloatProgress(value=0.0, max=401.0), HTML(value='')))"
      ]
     },
     "metadata": {},
     "output_type": "display_data"
    },
    {
     "name": "stdout",
     "output_type": "stream",
     "text": [
      "\n"
     ]
    },
    {
     "data": {
      "application/vnd.jupyter.widget-view+json": {
       "model_id": "aca859f6166942c297217d6410d0fcb0",
       "version_major": 2,
       "version_minor": 0
      },
      "text/plain": [
       "HBox(children=(FloatProgress(value=0.0, max=401.0), HTML(value='')))"
      ]
     },
     "metadata": {},
     "output_type": "display_data"
    },
    {
     "name": "stdout",
     "output_type": "stream",
     "text": [
      "\n"
     ]
    },
    {
     "data": {
      "application/vnd.jupyter.widget-view+json": {
       "model_id": "28c2f0481dd6489ab94040952682aa4e",
       "version_major": 2,
       "version_minor": 0
      },
      "text/plain": [
       "HBox(children=(FloatProgress(value=0.0, max=401.0), HTML(value='')))"
      ]
     },
     "metadata": {},
     "output_type": "display_data"
    },
    {
     "name": "stdout",
     "output_type": "stream",
     "text": [
      "\n"
     ]
    },
    {
     "data": {
      "application/vnd.jupyter.widget-view+json": {
       "model_id": "6c50832416fb4521ba86d2d49dda2a44",
       "version_major": 2,
       "version_minor": 0
      },
      "text/plain": [
       "HBox(children=(FloatProgress(value=0.0, max=401.0), HTML(value='')))"
      ]
     },
     "metadata": {},
     "output_type": "display_data"
    },
    {
     "name": "stdout",
     "output_type": "stream",
     "text": [
      "\n"
     ]
    },
    {
     "data": {
      "application/vnd.jupyter.widget-view+json": {
       "model_id": "05b7ab27221b4e45a027177233bab635",
       "version_major": 2,
       "version_minor": 0
      },
      "text/plain": [
       "HBox(children=(FloatProgress(value=0.0, max=401.0), HTML(value='')))"
      ]
     },
     "metadata": {},
     "output_type": "display_data"
    },
    {
     "name": "stdout",
     "output_type": "stream",
     "text": [
      "\n"
     ]
    },
    {
     "data": {
      "application/vnd.jupyter.widget-view+json": {
       "model_id": "6ba5fff49ba64a748d7d8e8333f91396",
       "version_major": 2,
       "version_minor": 0
      },
      "text/plain": [
       "HBox(children=(FloatProgress(value=0.0, max=401.0), HTML(value='')))"
      ]
     },
     "metadata": {},
     "output_type": "display_data"
    },
    {
     "name": "stdout",
     "output_type": "stream",
     "text": [
      "\n"
     ]
    },
    {
     "data": {
      "application/vnd.jupyter.widget-view+json": {
       "model_id": "0f24ce5564f4432f844b3a85ccf2cec8",
       "version_major": 2,
       "version_minor": 0
      },
      "text/plain": [
       "HBox(children=(FloatProgress(value=0.0, max=401.0), HTML(value='')))"
      ]
     },
     "metadata": {},
     "output_type": "display_data"
    },
    {
     "name": "stdout",
     "output_type": "stream",
     "text": [
      "\n"
     ]
    },
    {
     "data": {
      "application/vnd.jupyter.widget-view+json": {
       "model_id": "0b36fbe6d4f648678d8c3825ff073ead",
       "version_major": 2,
       "version_minor": 0
      },
      "text/plain": [
       "HBox(children=(FloatProgress(value=0.0, max=401.0), HTML(value='')))"
      ]
     },
     "metadata": {},
     "output_type": "display_data"
    },
    {
     "name": "stdout",
     "output_type": "stream",
     "text": [
      "\n"
     ]
    }
   ],
   "source": [
    "EPS = 12\n",
    "for j in range(4):\n",
    "    for i in np.linspace(20, 60, 5, dtype=np.uint8):\n",
    "        start_pos = np.load(f'positions/{j:0=2.0f}_{i:0=3.0f}_start.npy')\n",
    "        end_pos = np.load(f'positions/{j:0=2.0f}_{i:0=3.0f}_end.npy')\n",
    "\n",
    "        for n in tqdm(range(401)):\n",
    "            start_position = [start_pos[n][0], start_pos[n][1]]\n",
    "            end_position = [(end_pos[n][0] - start_pos[n][0]) * EPS, (end_pos[n][1] - start_pos[n][1]) * EPS]\n",
    "            fig, ax = plt.subplots(figsize=(4, 4))\n",
    "            ax.set_xlim([0, 64])\n",
    "            ax.set_ylim([32, 96])\n",
    "            ax.tick_params(top=False, bottom=False, right=False, left=False)\n",
    "            ax.set_xticklabels(labels=[])\n",
    "            ax.set_yticklabels(labels=[])\n",
    "            particle = patches.Circle(\n",
    "                tuple(start_position),\n",
    "                radius=5,\n",
    "                fc='w',\n",
    "                linewidth=3\n",
    "            )\n",
    "            arrow = patches.FancyArrow(\n",
    "                *start_position,\n",
    "                *end_position,\n",
    "                width=2,\n",
    "                head_width=4,\n",
    "                head_length=3,\n",
    "                ec='k',\n",
    "                fc='k'\n",
    "            )\n",
    "            ax.add_patch(arrow)\n",
    "            ax.add_patch(particle)\n",
    "            plt.savefig(f'../figs/sim07/figs4movies/{j:0=2.0f}/{i:0=3.0f}/{n:0=3.0f}.png')\n",
    "            plt.clf()\n",
    "            plt.close()"
   ]
  },
  {
   "cell_type": "code",
   "execution_count": null,
   "metadata": {
    "jupyter": {
     "source_hidden": true
    }
   },
   "outputs": [],
   "source": [
    "# # 理論値との比較用\n",
    "\n",
    "# EPS = 12\n",
    "# for j in range(1):\n",
    "#     for i in np.linspace(20, 60, 5, dtype=np.uint8):\n",
    "#         start_pos = np.load(f'positions/{j:0=2.0f}_{i:0=3.0f}_start.npy')\n",
    "#         end_pos = np.load(f'positions/{j:0=2.0f}_{i:0=3.0f}_end.npy')\n",
    "\n",
    "#         for n in tqdm(range(401)):\n",
    "#             start_position = [start_pos[n][0], start_pos[n][1]]\n",
    "#             end_position = [(end_pos[n][0] - start_pos[n][0]) * EPS, (end_pos[n][1] - start_pos[n][1]) * EPS]\n",
    "#             fig, ax = plt.subplots(figsize=(4, 4))\n",
    "#             ax.set_xlim([0, 64])\n",
    "#             ax.set_ylim([32, 96])\n",
    "#             ax.tick_params(top=False, bottom=False, right=False, left=False)\n",
    "#             ax.set_xticklabels(labels=[])\n",
    "#             ax.set_yticklabels(labels=[])\n",
    "#             particle = patches.Circle(\n",
    "#                 tuple(start_position),\n",
    "#                 radius=5,\n",
    "#                 fc='w',\n",
    "#                 linewidth=3\n",
    "#             )\n",
    "#             arrow = patches.FancyArrow(\n",
    "#                 *start_position,\n",
    "#                 *end_position,\n",
    "#                 width=2,\n",
    "#                 head_width=4,\n",
    "#                 head_length=3,\n",
    "#                 ec='k',\n",
    "#                 fc='k'\n",
    "#             )\n",
    "#             ax.add_patch(arrow)\n",
    "#             ax.add_patch(particle)\n",
    "#             plt.savefig(f'../figs/sim07/figs4movies/{j:0=2.0f}/{i:0=3.0f}/{n:0=3.0f}.png')\n",
    "#             plt.clf()\n",
    "#             plt.close()\n",
    "#     subprocess.run(['ffmpeg', '-f', 'image2', '-r', '15', '-i', f'figs/{j:0=2.0f}/{i:0=3.0f}/_%03d.png', '-r', '15', '-an', '-vcodec', 'libx264', '-pix_fmt', 'yuv420p', f'figs/{j:0=2.0f}/{i:0=3.0f}/video.mp4'])"
   ]
  },
  {
   "cell_type": "code",
   "execution_count": 76,
   "metadata": {},
   "outputs": [],
   "source": [
    "EPS = 25\n",
    "for j in range(4):\n",
    "    for i in np.linspace(20, 60, 5, dtype=np.uint8):\n",
    "        start_pos = np.load(f'positions/{j:0=2.0f}_{i:0=3.0f}_start.npy')\n",
    "        end_pos = np.load(f'positions/{j:0=2.0f}_{i:0=3.0f}_end.npy')\n",
    "\n",
    "        n = 400\n",
    "\n",
    "        gap = (start_pos[n][0] - 32, start_pos[n][1] - 64)\n",
    "\n",
    "        start_position = [start_pos[n][0] - gap[0], start_pos[n][1] - gap[1]]\n",
    "        end_position = [((end_pos[n][0] - gap[0]) - start_position[0]) * EPS, ((end_pos[n][1] - gap[1]) - start_position[1]) * EPS]\n",
    "\n",
    "        fig, ax = plt.subplots(figsize=(4, 4))\n",
    "        ax.set_xlim([0, 64])\n",
    "        ax.set_ylim([32, 96])\n",
    "        ax.tick_params(top=False, bottom=False, right=False, left=False)\n",
    "        ax.set_xticklabels(labels=[])\n",
    "        ax.set_yticklabels(labels=[])\n",
    "        particle = patches.Circle(\n",
    "            tuple(start_position),\n",
    "            radius=8,\n",
    "            fc='w',\n",
    "            linewidth=3\n",
    "        )\n",
    "        arrow = patches.FancyArrow(\n",
    "            *start_position,\n",
    "            *end_position,\n",
    "            width=4,\n",
    "            head_width=8,\n",
    "            head_length=3,\n",
    "            ec='k',\n",
    "            fc='k'\n",
    "        )\n",
    "        if (j == 0 and i < 60) or (j == 1 and i < 50) or (j == 2 and i < 40):\n",
    "            ax.set_facecolor(\"#B4C7E7\")\n",
    "            ax.add_patch(arrow)\n",
    "        else:\n",
    "            ax.set_facecolor(\"#F8CBAD\")\n",
    "        ax.add_patch(particle)\n",
    "        plt.savefig(f'../figs/sim07/figs4movies/{j:0=2.0f}/{i:0=3.0f}/fixed.png')\n",
    "        plt.clf()\n",
    "        plt.close()"
   ]
  },
  {
   "cell_type": "code",
   "execution_count": null,
   "metadata": {},
   "outputs": [],
   "source": []
  }
 ],
 "metadata": {
  "kernelspec": {
   "display_name": "Python 3",
   "language": "python",
   "name": "python3"
  },
  "language_info": {
   "codemirror_mode": {
    "name": "ipython",
    "version": 3
   },
   "file_extension": ".py",
   "mimetype": "text/x-python",
   "name": "python",
   "nbconvert_exporter": "python",
   "pygments_lexer": "ipython3",
   "version": "3.7.5"
  }
 },
 "nbformat": 4,
 "nbformat_minor": 4
}
