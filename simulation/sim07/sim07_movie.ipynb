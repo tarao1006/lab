{
 "cells": [
  {
   "cell_type": "code",
   "execution_count": 2,
   "metadata": {},
   "outputs": [],
   "source": [
    "import math\n",
    "import pickle\n",
    "import subprocess\n",
    "from tqdm.notebook import tqdm\n",
    "import numpy as np\n",
    "import pandas as pd\n",
    "import matplotlib.pyplot as plt\n",
    "import matplotlib.patches as patches\n",
    "import matplotlib.animation as animation\n",
    "from UDFManager import *\n",
    "from pyudf.rotation import Quaternion\n",
    "\n",
    "plt.style.use('presentation_')"
   ]
  },
  {
   "cell_type": "code",
   "execution_count": 3,
   "metadata": {
    "jupyter": {
     "source_hidden": true
    }
   },
   "outputs": [],
   "source": [
    "# def quaternionToRotationArray(q):\n",
    "#     return [\n",
    "#         [1 - 2 * (q.q2 * q.q2 + q.q3 * q.q3), 2 * (q.q1 * q.q2 + q.q0 * q.q3), 2 * (q.q3 * q.q1 - q.q0 * q.q2)],\n",
    "#         [2 * (q.q1 * q.q2 - q.q0 * q.q3), 1 - 2 * (q.q1 * q.q1 + q.q3 * q.q3), 2 * (q.q2 * q.q3 + q.q0 * q.q1)],\n",
    "#         [2 * (q.q3 * q.q1 + q.q0 * q.q2), 2 * (q.q2 * q.q3 - q.q0 * q.q1), 1 - 2 * (q.q1 * q.q1 - q.q2 * q.q2)]\n",
    "#     ]\n",
    "\n",
    "# for j in range(4):\n",
    "#     for i in np.linspace(20, 60, 5, dtype=np.uint8):\n",
    "#         uobj = UDFManager(f'{j:0=2.0f}/udf/{i:0=3.0f}/output.udf')\n",
    "#         nt = uobj.totalRecord()\n",
    "#         start_pos = []\n",
    "#         end_pos = []\n",
    "#         for n in range(nt):\n",
    "#             uobj.jump(n)\n",
    "#             s = np.array(uobj.get(\"Particles[].R\")[0])\n",
    "#             e = s + np.array(quaternionToRotationArray(Quaternion(*uobj.get(\"Particles[].q\")[0]))[1])\n",
    "#             start_pos.append(s)\n",
    "#             end_pos.append(e)\n",
    "#         start_pos = np.array(start_pos)\n",
    "#         end_pos = np.array(end_pos)\n",
    "        \n",
    "#         np.save(f'positions/{j:0=2.0f}_{i:0=3.0f}_start', start_pos)\n",
    "#         np.save(f'positions/{j:0=2.0f}_{i:0=3.0f}_end', end_pos)\n",
    "\n",
    "# for j in range(4):\n",
    "#     for i in np.linspace(20, 60, 5, dtype=np.uint8):\n",
    "#         start_pos = np.load(f'positions/{j:0=2.0f}_{i:0=3.0f}_start.npy')\n",
    "#         end_pos = np.load(f'positions/{j:0=2.0f}_{i:0=3.0f}_end.npy')"
   ]
  },
  {
   "cell_type": "code",
   "execution_count": 4,
   "metadata": {},
   "outputs": [
    {
     "data": {
      "application/vnd.jupyter.widget-view+json": {
       "model_id": "d7257a39ab164295b91087fc86409ee5",
       "version_major": 2,
       "version_minor": 0
      },
      "text/plain": [
       "HBox(children=(FloatProgress(value=0.0, max=401.0), HTML(value='')))"
      ]
     },
     "metadata": {},
     "output_type": "display_data"
    },
    {
     "name": "stdout",
     "output_type": "stream",
     "text": [
      "\n"
     ]
    },
    {
     "data": {
      "application/vnd.jupyter.widget-view+json": {
       "model_id": "bc16881049a94a7282496fa742b5bf79",
       "version_major": 2,
       "version_minor": 0
      },
      "text/plain": [
       "HBox(children=(FloatProgress(value=0.0, max=401.0), HTML(value='')))"
      ]
     },
     "metadata": {},
     "output_type": "display_data"
    },
    {
     "name": "stdout",
     "output_type": "stream",
     "text": [
      "\n"
     ]
    },
    {
     "data": {
      "application/vnd.jupyter.widget-view+json": {
       "model_id": "5e4e02341a664fcfaf9acb95f471988d",
       "version_major": 2,
       "version_minor": 0
      },
      "text/plain": [
       "HBox(children=(FloatProgress(value=0.0, max=401.0), HTML(value='')))"
      ]
     },
     "metadata": {},
     "output_type": "display_data"
    },
    {
     "name": "stdout",
     "output_type": "stream",
     "text": [
      "\n"
     ]
    },
    {
     "data": {
      "application/vnd.jupyter.widget-view+json": {
       "model_id": "c373b6738db64722aa09e1a3d7289f81",
       "version_major": 2,
       "version_minor": 0
      },
      "text/plain": [
       "HBox(children=(FloatProgress(value=0.0, max=401.0), HTML(value='')))"
      ]
     },
     "metadata": {},
     "output_type": "display_data"
    },
    {
     "name": "stdout",
     "output_type": "stream",
     "text": [
      "\n"
     ]
    },
    {
     "data": {
      "application/vnd.jupyter.widget-view+json": {
       "model_id": "b99e26a07c324bb3b5257b724ad7eff8",
       "version_major": 2,
       "version_minor": 0
      },
      "text/plain": [
       "HBox(children=(FloatProgress(value=0.0, max=401.0), HTML(value='')))"
      ]
     },
     "metadata": {},
     "output_type": "display_data"
    },
    {
     "name": "stdout",
     "output_type": "stream",
     "text": [
      "\n"
     ]
    },
    {
     "data": {
      "application/vnd.jupyter.widget-view+json": {
       "model_id": "413214ae7c3041e9bd05a1cb849143c7",
       "version_major": 2,
       "version_minor": 0
      },
      "text/plain": [
       "HBox(children=(FloatProgress(value=0.0, max=401.0), HTML(value='')))"
      ]
     },
     "metadata": {},
     "output_type": "display_data"
    },
    {
     "name": "stdout",
     "output_type": "stream",
     "text": [
      "\n"
     ]
    },
    {
     "data": {
      "application/vnd.jupyter.widget-view+json": {
       "model_id": "f25ca808744c432083aaccc6fd87316a",
       "version_major": 2,
       "version_minor": 0
      },
      "text/plain": [
       "HBox(children=(FloatProgress(value=0.0, max=401.0), HTML(value='')))"
      ]
     },
     "metadata": {},
     "output_type": "display_data"
    },
    {
     "name": "stdout",
     "output_type": "stream",
     "text": [
      "\n"
     ]
    },
    {
     "data": {
      "application/vnd.jupyter.widget-view+json": {
       "model_id": "a9b6e14f0f07446ea145b3a6335fcd77",
       "version_major": 2,
       "version_minor": 0
      },
      "text/plain": [
       "HBox(children=(FloatProgress(value=0.0, max=401.0), HTML(value='')))"
      ]
     },
     "metadata": {},
     "output_type": "display_data"
    },
    {
     "name": "stdout",
     "output_type": "stream",
     "text": [
      "\n"
     ]
    },
    {
     "data": {
      "application/vnd.jupyter.widget-view+json": {
       "model_id": "61a9616788c14f85814643afb224ff00",
       "version_major": 2,
       "version_minor": 0
      },
      "text/plain": [
       "HBox(children=(FloatProgress(value=0.0, max=401.0), HTML(value='')))"
      ]
     },
     "metadata": {},
     "output_type": "display_data"
    },
    {
     "name": "stdout",
     "output_type": "stream",
     "text": [
      "\n"
     ]
    },
    {
     "data": {
      "application/vnd.jupyter.widget-view+json": {
       "model_id": "11fe7bb2180346aaa435105c27d10ba2",
       "version_major": 2,
       "version_minor": 0
      },
      "text/plain": [
       "HBox(children=(FloatProgress(value=0.0, max=401.0), HTML(value='')))"
      ]
     },
     "metadata": {},
     "output_type": "display_data"
    },
    {
     "name": "stdout",
     "output_type": "stream",
     "text": [
      "\n"
     ]
    },
    {
     "data": {
      "application/vnd.jupyter.widget-view+json": {
       "model_id": "5a815a1f5a6b4b86aa738b5e58ddf425",
       "version_major": 2,
       "version_minor": 0
      },
      "text/plain": [
       "HBox(children=(FloatProgress(value=0.0, max=401.0), HTML(value='')))"
      ]
     },
     "metadata": {},
     "output_type": "display_data"
    },
    {
     "name": "stdout",
     "output_type": "stream",
     "text": [
      "\n"
     ]
    },
    {
     "data": {
      "application/vnd.jupyter.widget-view+json": {
       "model_id": "4b278db85c024f32a7e05248275755df",
       "version_major": 2,
       "version_minor": 0
      },
      "text/plain": [
       "HBox(children=(FloatProgress(value=0.0, max=401.0), HTML(value='')))"
      ]
     },
     "metadata": {},
     "output_type": "display_data"
    },
    {
     "name": "stdout",
     "output_type": "stream",
     "text": [
      "\n"
     ]
    },
    {
     "data": {
      "application/vnd.jupyter.widget-view+json": {
       "model_id": "6bd18625e9fd401eb1b0d744243d9eec",
       "version_major": 2,
       "version_minor": 0
      },
      "text/plain": [
       "HBox(children=(FloatProgress(value=0.0, max=401.0), HTML(value='')))"
      ]
     },
     "metadata": {},
     "output_type": "display_data"
    },
    {
     "name": "stdout",
     "output_type": "stream",
     "text": [
      "\n"
     ]
    },
    {
     "data": {
      "application/vnd.jupyter.widget-view+json": {
       "model_id": "e8cdd6679fda42ad871c68ab4e643ed7",
       "version_major": 2,
       "version_minor": 0
      },
      "text/plain": [
       "HBox(children=(FloatProgress(value=0.0, max=401.0), HTML(value='')))"
      ]
     },
     "metadata": {},
     "output_type": "display_data"
    },
    {
     "name": "stdout",
     "output_type": "stream",
     "text": [
      "\n"
     ]
    },
    {
     "data": {
      "application/vnd.jupyter.widget-view+json": {
       "model_id": "3aa670c73dfe4998b75ec442a037c45e",
       "version_major": 2,
       "version_minor": 0
      },
      "text/plain": [
       "HBox(children=(FloatProgress(value=0.0, max=401.0), HTML(value='')))"
      ]
     },
     "metadata": {},
     "output_type": "display_data"
    },
    {
     "name": "stdout",
     "output_type": "stream",
     "text": [
      "\n"
     ]
    },
    {
     "data": {
      "application/vnd.jupyter.widget-view+json": {
       "model_id": "49cb8e826e784cd58b89b27745ea17c8",
       "version_major": 2,
       "version_minor": 0
      },
      "text/plain": [
       "HBox(children=(FloatProgress(value=0.0, max=401.0), HTML(value='')))"
      ]
     },
     "metadata": {},
     "output_type": "display_data"
    },
    {
     "name": "stdout",
     "output_type": "stream",
     "text": [
      "\n"
     ]
    },
    {
     "data": {
      "application/vnd.jupyter.widget-view+json": {
       "model_id": "dd220bdbd11f4ed18570ecad722d03fa",
       "version_major": 2,
       "version_minor": 0
      },
      "text/plain": [
       "HBox(children=(FloatProgress(value=0.0, max=401.0), HTML(value='')))"
      ]
     },
     "metadata": {},
     "output_type": "display_data"
    },
    {
     "name": "stdout",
     "output_type": "stream",
     "text": [
      "\n"
     ]
    },
    {
     "data": {
      "application/vnd.jupyter.widget-view+json": {
       "model_id": "10e93ed8a8394cc4a2179676fe546ec4",
       "version_major": 2,
       "version_minor": 0
      },
      "text/plain": [
       "HBox(children=(FloatProgress(value=0.0, max=401.0), HTML(value='')))"
      ]
     },
     "metadata": {},
     "output_type": "display_data"
    },
    {
     "name": "stdout",
     "output_type": "stream",
     "text": [
      "\n"
     ]
    },
    {
     "data": {
      "application/vnd.jupyter.widget-view+json": {
       "model_id": "d2caad50a9154ffd9f01db7e71cb24a3",
       "version_major": 2,
       "version_minor": 0
      },
      "text/plain": [
       "HBox(children=(FloatProgress(value=0.0, max=401.0), HTML(value='')))"
      ]
     },
     "metadata": {},
     "output_type": "display_data"
    },
    {
     "name": "stdout",
     "output_type": "stream",
     "text": [
      "\n"
     ]
    },
    {
     "data": {
      "application/vnd.jupyter.widget-view+json": {
       "model_id": "9c7a0d88d1fd404bb037c087dcb234c3",
       "version_major": 2,
       "version_minor": 0
      },
      "text/plain": [
       "HBox(children=(FloatProgress(value=0.0, max=401.0), HTML(value='')))"
      ]
     },
     "metadata": {},
     "output_type": "display_data"
    },
    {
     "name": "stdout",
     "output_type": "stream",
     "text": [
      "\n"
     ]
    }
   ],
   "source": [
    "EPS = 12\n",
    "for j in range(4):\n",
    "    for i in np.linspace(20, 60, 5, dtype=np.uint8):\n",
    "        start_pos = np.load(f'positions/{j:0=2.0f}_{i:0=3.0f}_start.npy')\n",
    "        end_pos = np.load(f'positions/{j:0=2.0f}_{i:0=3.0f}_end.npy')\n",
    "\n",
    "        for n in tqdm(range(401)):\n",
    "            start_position = [start_pos[n][0], start_pos[n][1]]\n",
    "            end_position = [(end_pos[n][0] - start_pos[n][0]) * EPS, (end_pos[n][1] - start_pos[n][1]) * EPS]\n",
    "            fig, ax = plt.subplots(figsize=(4, 4))\n",
    "            ax.set_xlim([0, 64])\n",
    "            ax.set_ylim([32, 96])\n",
    "            ax.tick_params(top=False, bottom=False, right=False, left=False)\n",
    "            ax.set_xticklabels(labels=[])\n",
    "            ax.set_yticklabels(labels=[])\n",
    "            particle = patches.Circle(\n",
    "                tuple(start_position),\n",
    "                radius=5,\n",
    "                fc='w',\n",
    "                linewidth=3\n",
    "            )\n",
    "            arrow = patches.FancyArrow(\n",
    "                *start_position,\n",
    "                *end_position,\n",
    "                width=2,\n",
    "                head_width=4,\n",
    "                head_length=3,\n",
    "                ec='k',\n",
    "                fc='k'\n",
    "            )\n",
    "            ax.add_patch(arrow)\n",
    "            ax.add_patch(particle)\n",
    "            plt.savefig(f'../figs/sim07/figs4movies/{j:0=2.0f}/{i:0=3.0f}/_{n:0=3.0f}.png')\n",
    "            plt.clf()\n",
    "            plt.close()"
   ]
  },
  {
   "cell_type": "code",
   "execution_count": 76,
   "metadata": {
    "jupyter": {
     "source_hidden": true
    }
   },
   "outputs": [],
   "source": [
    "# シミュレーションの模式図用。\n",
    "\n",
    "EPS = 25\n",
    "for j in range(4):\n",
    "    for i in np.linspace(20, 60, 5, dtype=np.uint8):\n",
    "        start_pos = np.load(f'positions/{j:0=2.0f}_{i:0=3.0f}_start.npy')\n",
    "        end_pos = np.load(f'positions/{j:0=2.0f}_{i:0=3.0f}_end.npy')\n",
    "\n",
    "        n = 400\n",
    "\n",
    "        gap = (start_pos[n][0] - 32, start_pos[n][1] - 64)\n",
    "\n",
    "        start_position = [start_pos[n][0] - gap[0], start_pos[n][1] - gap[1]]\n",
    "        end_position = [((end_pos[n][0] - gap[0]) - start_position[0]) * EPS, ((end_pos[n][1] - gap[1]) - start_position[1]) * EPS]\n",
    "\n",
    "        fig, ax = plt.subplots(figsize=(4, 4))\n",
    "        ax.set_xlim([0, 64])\n",
    "        ax.set_ylim([32, 96])\n",
    "        ax.tick_params(top=False, bottom=False, right=False, left=False)\n",
    "        ax.set_xticklabels(labels=[])\n",
    "        ax.set_yticklabels(labels=[])\n",
    "        particle = patches.Circle(\n",
    "            tuple(start_position),\n",
    "            radius=8,\n",
    "            fc='w',\n",
    "            linewidth=3\n",
    "        )\n",
    "        arrow = patches.FancyArrow(\n",
    "            *start_position,\n",
    "            *end_position,\n",
    "            width=4,\n",
    "            head_width=8,\n",
    "            head_length=3,\n",
    "            ec='k',\n",
    "            fc='k'\n",
    "        )\n",
    "        if (j == 0 and i < 60) or (j == 1 and i < 50) or (j == 2 and i < 40):\n",
    "            ax.set_facecolor(\"#B4C7E7\")\n",
    "            ax.add_patch(arrow)\n",
    "        else:\n",
    "            ax.set_facecolor(\"#F8CBAD\")\n",
    "        ax.add_patch(particle)\n",
    "        plt.savefig(f'../figs/sim07/figs4movies/{j:0=2.0f}/{i:0=3.0f}/fixed.png')\n",
    "        plt.clf()\n",
    "        plt.close()"
   ]
  },
  {
   "cell_type": "code",
   "execution_count": 5,
   "metadata": {},
   "outputs": [],
   "source": [
    "# 理論値との比較用。単体で動画を作成する。\n",
    "\n",
    "EPS = 12\n",
    "for j in range(1):\n",
    "    for i in np.linspace(20, 60, 5, dtype=np.uint8):\n",
    "        subprocess.run(['ffmpeg', '-f', 'image2', '-r', '15', '-i', f'../figs/sim07/figs4movies/{j:0=2.0f}/{i:0=3.0f}/_%03d.png', '-r', '15', '-an', '-vcodec', 'libx264', '-pix_fmt', 'yuv420p', f'../figs/sim07/_{j:0=2.0f}_{i:0=3.0f}_video.mp4'])\n",
    "        subprocess.run(['ffmpeg', '-i', f'../figs/sim07/_{j:0=2.0f}_{i:0=3.0f}_video.mp4', f'../figs/sim07/_{j:0=2.0f}_{i:0=3.0f}_video.gif'])"
   ]
  },
  {
   "cell_type": "code",
   "execution_count": null,
   "metadata": {},
   "outputs": [],
   "source": []
  }
 ],
 "metadata": {
  "kernelspec": {
   "display_name": "Python 3",
   "language": "python",
   "name": "python3"
  },
  "language_info": {
   "codemirror_mode": {
    "name": "ipython",
    "version": 3
   },
   "file_extension": ".py",
   "mimetype": "text/x-python",
   "name": "python",
   "nbconvert_exporter": "python",
   "pygments_lexer": "ipython3",
   "version": "3.7.5"
  }
 },
 "nbformat": 4,
 "nbformat_minor": 4
}
