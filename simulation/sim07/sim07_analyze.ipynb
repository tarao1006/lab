{
 "cells": [
  {
   "cell_type": "code",
   "execution_count": 1,
   "metadata": {},
   "outputs": [],
   "source": [
    "import math\n",
    "import pickle\n",
    "from tqdm.notebook import tqdm\n",
    "import numpy as np\n",
    "import pandas as pd\n",
    "import matplotlib.pyplot as plt\n",
    "from UDFManager import *\n",
    "from pyudf.rotation import Quaternion\n",
    "\n",
    "plt.style.use('presentation')"
   ]
  },
  {
   "cell_type": "code",
   "execution_count": 2,
   "metadata": {},
   "outputs": [],
   "source": [
    "def quaternionToRotationArray(q):\n",
    "    return [\n",
    "        [1 - 2 * (q.q2 * q.q2 + q.q3 * q.q3), 2 * (q.q1 * q.q2 + q.q0 * q.q3), 2 * (q.q3 * q.q1 - q.q0 * q.q2)],\n",
    "        [2 * (q.q1 * q.q2 - q.q0 * q.q3), 1 - 2 * (q.q1 * q.q1 + q.q3 * q.q3), 2 * (q.q2 * q.q3 + q.q0 * q.q1)],\n",
    "        [2 * (q.q3 * q.q1 + q.q0 * q.q2), 2 * (q.q2 * q.q3 - q.q0 * q.q1), 1 - 2 * (q.q1 * q.q1 - q.q2 * q.q2)]\n",
    "    ]"
   ]
  },
  {
   "cell_type": "code",
   "execution_count": 3,
   "metadata": {},
   "outputs": [],
   "source": [
    "RHO = 1.0\n",
    "MU  = 1.0\n",
    "a   = 5.0\n",
    "h   = a / 2.0\n",
    "gra = 0.06\n",
    "\n",
    "gravity = np.array([0.0, 1.0, 0.0]) * (gra * RHO * 4 / 3 * np.pi * (a**3))"
   ]
  },
  {
   "cell_type": "code",
   "execution_count": 4,
   "metadata": {},
   "outputs": [],
   "source": [
    "gammadot_map = {}\n",
    "radian_map   = {}\n",
    "tr_hy_map    = {}\n",
    "tr_s_map     = {}\n",
    "tr_bh_map    = {}\n",
    "tr_cs_map    = {}\n",
    "tr_cbh_mao   = {}"
   ]
  },
  {
   "cell_type": "code",
   "execution_count": 5,
   "metadata": {},
   "outputs": [
    {
     "data": {
      "application/vnd.jupyter.widget-view+json": {
       "model_id": "7ba5db29fc254b03bb4c7935368d9c8e",
       "version_major": 2,
       "version_minor": 0
      },
      "text/plain": [
       "HBox(children=(FloatProgress(value=0.0, max=30.0), HTML(value='')))"
      ]
     },
     "metadata": {},
     "output_type": "display_data"
    },
    {
     "name": "stdout",
     "output_type": "stream",
     "text": [
      "\n"
     ]
    }
   ],
   "source": [
    "gammadots = []\n",
    "radians   = []\n",
    "tr_hys    = []\n",
    "tr_ss     = []\n",
    "tr_bhs    = []\n",
    "tr_css    = []\n",
    "tr_cbhs   = []\n",
    "\n",
    "for i in tqdm(range(5, 155, 5)):\n",
    "    uobj = UDFManager(f'00/udf/{i:0=3}/output.udf')\n",
    "    gammadot = uobj.get(\"constitutive_eq.Shear_Navier_Stokes.External_field.DC.Shear_rate\")\n",
    "    gammadots.append(gammadot)\n",
    "    nt = uobj.totalRecord()\n",
    "    \n",
    "    tr_hy  = np.zeros(nt)  # from udf\n",
    "    tr_s   = np.zeros(nt)  # from udf\n",
    "    tr_bh  = np.zeros(nt)  # from udf\n",
    "    radian = np.zeros(nt)\n",
    "    \n",
    "    tr_cs  = np.ones(nt) * (8 * np.pi * MU * (a**3) * 0.5 * gammadot) # calc\n",
    "    tr_cbh = np.zeros(nt)\n",
    "    for n in range(nt):\n",
    "        uobj.jump(n)\n",
    "        tr_hy[n] = uobj.get(\"Particles[].torque_hydro\")[0][-1]\n",
    "        tr_s[n]  = uobj.get(\"Particles[].torque_slip\")[0][-1]\n",
    "        tr_bh[n] = uobj.get(\"Particles[].torque_bh\")[0][-1]\n",
    "        \n",
    "        q = Quaternion(*(uobj.get(\"Particles[].q\"))[0])\n",
    "        rotation_matrix = quaternionToRotationArray(q)[1]\n",
    "        radian[n] = np.arccos(rotation_matrix[1])\n",
    "        tr_cbh[n] = (np.cross(rotation_matrix, gravity) * h)[-1]\n",
    "\n",
    "    tr_hys.append(tr_hy)\n",
    "    tr_ss.append(tr_s)\n",
    "    tr_bhs.append(tr_bh)\n",
    "    \n",
    "    radians.append(radian)\n",
    "    tr_css.append(tr_cs)\n",
    "    tr_cbhs.append(tr_cbh)\n",
    "#     print(f'shear: {gammadot: 2.4f}\\t tr_hy: {tr_hy[-1]: 2.5f}\\t tr_s: {tr_s[-1]: 2.5f}\\t sum: {tr_hy[-1]+tr_s[-1]: 2.6f} \\t tr_bh: {tr_bh[-1]: 2.5f}\\t cal_shear: {tr_cs[-1]: 2.5f}\\t cal_bh: {tr_cbh[-1]: 2.5f}')\n",
    "\n",
    "gammadots = np.array(gammadots)\n",
    "n_gammadots = MU * (a**3) * 0.5 * gammadots * 8 * np.pi * 10\n",
    "\n",
    "gammadot_map['00'] = gammadots\n",
    "radian_map['00']   = radians\n",
    "tr_hy_map['00']    = tr_hys\n",
    "tr_s_map['00']     = tr_ss\n",
    "tr_bh_map['00']    = tr_bhs\n",
    "tr_cs_map['00']    = tr_css\n",
    "tr_cbh_mao['00']   = tr_cbhs"
   ]
  },
  {
   "cell_type": "code",
   "execution_count": 6,
   "metadata": {},
   "outputs": [
    {
     "data": {
      "application/vnd.jupyter.widget-view+json": {
       "model_id": "814c5b4ffb854b13b6c6a4260eea25a3",
       "version_major": 2,
       "version_minor": 0
      },
      "text/plain": [
       "HBox(children=(FloatProgress(value=0.0, max=30.0), HTML(value='')))"
      ]
     },
     "metadata": {},
     "output_type": "display_data"
    },
    {
     "name": "stdout",
     "output_type": "stream",
     "text": [
      "\n"
     ]
    }
   ],
   "source": [
    "gammadots = []\n",
    "radians   = []\n",
    "tr_hys    = []\n",
    "tr_ss     = []\n",
    "tr_bhs    = []\n",
    "tr_css    = []\n",
    "tr_cbhs   = []\n",
    "\n",
    "for i in tqdm(range(5, 155, 5)):\n",
    "    uobj = UDFManager(f'01/udf/{i:0=3}/output.udf')\n",
    "    gammadot = uobj.get(\"constitutive_eq.Shear_Navier_Stokes.External_field.DC.Shear_rate\")\n",
    "    gammadots.append(gammadot)\n",
    "    nt = uobj.totalRecord()\n",
    "    \n",
    "    tr_hy  = np.zeros(nt)  # from udf\n",
    "    tr_s   = np.zeros(nt)  # from udf\n",
    "    tr_bh  = np.zeros(nt)  # from udf\n",
    "    radian = np.zeros(nt)\n",
    "    \n",
    "    tr_cs  = np.ones(nt) * (8 * np.pi * MU * (a**3) * 0.5 * gammadot) # calc\n",
    "    tr_cbh = np.zeros(nt)\n",
    "    for n in range(nt):\n",
    "        uobj.jump(n)\n",
    "        tr_hy[n] = uobj.get(\"Particles[].torque_hydro\")[0][-1]\n",
    "        tr_s[n]  = uobj.get(\"Particles[].torque_slip\")[0][-1]\n",
    "        tr_bh[n] = uobj.get(\"Particles[].torque_bh\")[0][-1]\n",
    "        \n",
    "        q = Quaternion(*(uobj.get(\"Particles[].q\"))[0])\n",
    "        rotation_matrix = quaternionToRotationArray(q)[1]\n",
    "        radian[n] = np.arccos(rotation_matrix[1])\n",
    "        tr_cbh[n] = (np.cross(rotation_matrix, gravity) * h)[-1]\n",
    "\n",
    "    tr_hys.append(tr_hy)\n",
    "    tr_ss.append(tr_s)\n",
    "    tr_bhs.append(tr_bh)\n",
    "    \n",
    "    radians.append(radian)\n",
    "    tr_css.append(tr_cs)\n",
    "    tr_cbhs.append(tr_cbh)\n",
    "#     print(f'shear: {gammadot: 2.4f}\\t tr_hy: {tr_hy[-1]: 2.5f}\\t tr_s: {tr_s[-1]: 2.5f}\\t sum: {tr_hy[-1]+tr_s[-1]: 2.6f} \\t tr_bh: {tr_bh[-1]: 2.5f}\\t cal_shear: {tr_cs[-1]: 2.5f}\\t cal_bh: {tr_cbh[-1]: 2.5f}')\n",
    "\n",
    "gammadots = np.array(gammadots)\n",
    "n_gammadots = MU * (a**3) * 0.5 * gammadots * 8 * np.pi * 10\n",
    "\n",
    "gammadot_map['01'] = gammadots\n",
    "radian_map['01']   = radians\n",
    "tr_hy_map['01']    = tr_hys\n",
    "tr_s_map['01']     = tr_ss\n",
    "tr_bh_map['01']    = tr_bhs\n",
    "tr_cs_map['01']    = tr_css\n",
    "tr_cbh_mao['01']   = tr_cbhs"
   ]
  },
  {
   "cell_type": "code",
   "execution_count": 7,
   "metadata": {},
   "outputs": [
    {
     "data": {
      "application/vnd.jupyter.widget-view+json": {
       "model_id": "6c3a874a158b45fe9bfbbf6c54ec110a",
       "version_major": 2,
       "version_minor": 0
      },
      "text/plain": [
       "HBox(children=(FloatProgress(value=0.0, max=30.0), HTML(value='')))"
      ]
     },
     "metadata": {},
     "output_type": "display_data"
    },
    {
     "name": "stdout",
     "output_type": "stream",
     "text": [
      "\n"
     ]
    }
   ],
   "source": [
    "gammadots = []\n",
    "radians   = []\n",
    "tr_hys    = []\n",
    "tr_ss     = []\n",
    "tr_bhs    = []\n",
    "tr_css    = []\n",
    "tr_cbhs   = []\n",
    "\n",
    "for i in tqdm(range(5, 155, 5)):\n",
    "    uobj = UDFManager(f'02/udf/{i:0=3}/output.udf')\n",
    "    gammadot = uobj.get(\"constitutive_eq.Shear_Navier_Stokes.External_field.DC.Shear_rate\")\n",
    "    gammadots.append(gammadot)\n",
    "    nt = uobj.totalRecord()\n",
    "    \n",
    "    tr_hy  = np.zeros(nt)  # from udf\n",
    "    tr_s   = np.zeros(nt)  # from udf\n",
    "    tr_bh  = np.zeros(nt)  # from udf\n",
    "    radian = np.zeros(nt)\n",
    "    \n",
    "    tr_cs  = np.ones(nt) * (8 * np.pi * MU * (a**3) * 0.5 * gammadot) # calc\n",
    "    tr_cbh = np.zeros(nt)\n",
    "    for n in range(nt):\n",
    "        uobj.jump(n)\n",
    "        tr_hy[n] = uobj.get(\"Particles[].torque_hydro\")[0][-1]\n",
    "        tr_s[n]  = uobj.get(\"Particles[].torque_slip\")[0][-1]\n",
    "        tr_bh[n] = uobj.get(\"Particles[].torque_bh\")[0][-1]\n",
    "        \n",
    "        q = Quaternion(*(uobj.get(\"Particles[].q\"))[0])\n",
    "        rotation_matrix = quaternionToRotationArray(q)[1]\n",
    "        radian[n] = np.arccos(rotation_matrix[1])\n",
    "        tr_cbh[n] = (np.cross(rotation_matrix, gravity) * h)[-1]\n",
    "\n",
    "    tr_hys.append(tr_hy)\n",
    "    tr_ss.append(tr_s)\n",
    "    tr_bhs.append(tr_bh)\n",
    "    \n",
    "    radians.append(radian)\n",
    "    tr_css.append(tr_cs)\n",
    "    tr_cbhs.append(tr_cbh)\n",
    "#     print(f'shear: {gammadot: 2.4f}\\t tr_hy: {tr_hy[-1]: 2.5f}\\t tr_s: {tr_s[-1]: 2.5f}\\t sum: {tr_hy[-1]+tr_s[-1]: 2.6f} \\t tr_bh: {tr_bh[-1]: 2.5f}\\t cal_shear: {tr_cs[-1]: 2.5f}\\t cal_bh: {tr_cbh[-1]: 2.5f}')\n",
    "\n",
    "gammadots = np.array(gammadots)\n",
    "n_gammadots = MU * (a**3) * 0.5 * gammadots * 8 * np.pi * 10\n",
    "\n",
    "gammadot_map['02'] = gammadots\n",
    "radian_map['02']   = radians\n",
    "tr_hy_map['02']    = tr_hys\n",
    "tr_s_map['02']     = tr_ss\n",
    "tr_bh_map['02']    = tr_bhs\n",
    "tr_cs_map['02']    = tr_css\n",
    "tr_cbh_mao['02']   = tr_cbhs"
   ]
  },
  {
   "cell_type": "code",
   "execution_count": 8,
   "metadata": {},
   "outputs": [
    {
     "data": {
      "application/vnd.jupyter.widget-view+json": {
       "model_id": "b7ffa9f01fa54145b0d60a6bfe02b17b",
       "version_major": 2,
       "version_minor": 0
      },
      "text/plain": [
       "HBox(children=(FloatProgress(value=0.0, max=30.0), HTML(value='')))"
      ]
     },
     "metadata": {},
     "output_type": "display_data"
    },
    {
     "name": "stdout",
     "output_type": "stream",
     "text": [
      "\n"
     ]
    }
   ],
   "source": [
    "gammadots = []\n",
    "radians   = []\n",
    "tr_hys    = []\n",
    "tr_ss     = []\n",
    "tr_bhs    = []\n",
    "tr_css    = []\n",
    "tr_cbhs   = []\n",
    "\n",
    "for i in tqdm(range(5, 155, 5)):\n",
    "    uobj = UDFManager(f'03/udf/{i:0=3}/output.udf')\n",
    "    gammadot = uobj.get(\"constitutive_eq.Shear_Navier_Stokes.External_field.DC.Shear_rate\")\n",
    "    gammadots.append(gammadot)\n",
    "    nt = uobj.totalRecord()\n",
    "    \n",
    "    tr_hy  = np.zeros(nt)  # from udf\n",
    "    tr_s   = np.zeros(nt)  # from udf\n",
    "    tr_bh  = np.zeros(nt)  # from udf\n",
    "    radian = np.zeros(nt)\n",
    "    \n",
    "    tr_cs  = np.ones(nt) * (8 * np.pi * MU * (a**3) * 0.5 * gammadot) # calc\n",
    "    tr_cbh = np.zeros(nt)\n",
    "    for n in range(nt):\n",
    "        uobj.jump(n)\n",
    "        tr_hy[n] = uobj.get(\"Particles[].torque_hydro\")[0][-1]\n",
    "        tr_s[n]  = uobj.get(\"Particles[].torque_slip\")[0][-1]\n",
    "        tr_bh[n] = uobj.get(\"Particles[].torque_bh\")[0][-1]\n",
    "        \n",
    "        q = Quaternion(*(uobj.get(\"Particles[].q\"))[0])\n",
    "        rotation_matrix = quaternionToRotationArray(q)[1]\n",
    "        radian[n] = np.arccos(rotation_matrix[1])\n",
    "        tr_cbh[n] = (np.cross(rotation_matrix, gravity) * h)[-1]\n",
    "\n",
    "    tr_hys.append(tr_hy)\n",
    "    tr_ss.append(tr_s)\n",
    "    tr_bhs.append(tr_bh)\n",
    "    \n",
    "    radians.append(radian)\n",
    "    tr_css.append(tr_cs)\n",
    "    tr_cbhs.append(tr_cbh)\n",
    "#     print(f'shear: {gammadot: 2.4f}\\t tr_hy: {tr_hy[-1]: 2.5f}\\t tr_s: {tr_s[-1]: 2.5f}\\t sum: {tr_hy[-1]+tr_s[-1]: 2.6f} \\t tr_bh: {tr_bh[-1]: 2.5f}\\t cal_shear: {tr_cs[-1]: 2.5f}\\t cal_bh: {tr_cbh[-1]: 2.5f}')\n",
    "\n",
    "gammadots = np.array(gammadots)\n",
    "n_gammadots = MU * (a**3) * 0.5 * gammadots * 8 * np.pi * 10\n",
    "\n",
    "gammadot_map['03'] = gammadots\n",
    "radian_map['03']   = radians\n",
    "tr_hy_map['03']    = tr_hys\n",
    "tr_s_map['03']     = tr_ss\n",
    "tr_bh_map['03']    = tr_bhs\n",
    "tr_cs_map['03']    = tr_css\n",
    "tr_cbh_mao['03']   = tr_cbhs"
   ]
  },
  {
   "cell_type": "code",
   "execution_count": null,
   "metadata": {},
   "outputs": [],
   "source": []
  }
 ],
 "metadata": {
  "kernelspec": {
   "display_name": "Python 3",
   "language": "python",
   "name": "python3"
  },
  "language_info": {
   "codemirror_mode": {
    "name": "ipython",
    "version": 3
   },
   "file_extension": ".py",
   "mimetype": "text/x-python",
   "name": "python",
   "nbconvert_exporter": "python",
   "pygments_lexer": "ipython3",
   "version": "3.7.5"
  }
 },
 "nbformat": 4,
 "nbformat_minor": 4
}
